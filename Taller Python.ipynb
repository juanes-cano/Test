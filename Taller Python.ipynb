{
 "cells": [
  {
   "cell_type": "code",
   "execution_count": null,
   "id": "3f70bdb4",
   "metadata": {},
   "outputs": [],
   "source": [
    "Hola Mundo"
   ]
  },
  {
   "cell_type": "code",
   "execution_count": null,
   "id": "4f132f12",
   "metadata": {},
   "outputs": [],
   "source": [
    "\"Hola Mundo\""
   ]
  },
  {
   "cell_type": "code",
   "execution_count": null,
   "id": "e9461a83",
   "metadata": {},
   "outputs": [],
   "source": [
    "'Hola Mundo'"
   ]
  },
  {
   "cell_type": "code",
   "execution_count": null,
   "id": "4c73d6f0",
   "metadata": {},
   "outputs": [],
   "source": [
    "saludo = 'Hola Mundo'"
   ]
  },
  {
   "cell_type": "code",
   "execution_count": null,
   "id": "2306fd5f",
   "metadata": {},
   "outputs": [],
   "source": [
    "# imprimir string -- texto\n",
    "print(saludo)"
   ]
  },
  {
   "cell_type": "code",
   "execution_count": null,
   "id": "8e51b959",
   "metadata": {},
   "outputs": [],
   "source": []
  },
  {
   "cell_type": "code",
   "execution_count": null,
   "id": "76f5a81b",
   "metadata": {},
   "outputs": [],
   "source": [
    "#Numeros\n",
    "\n",
    "#Enteros\n",
    "10"
   ]
  },
  {
   "cell_type": "code",
   "execution_count": null,
   "id": "3bf9de89",
   "metadata": {},
   "outputs": [],
   "source": [
    "print(30)"
   ]
  },
  {
   "cell_type": "code",
   "execution_count": null,
   "id": "8b0c8c44",
   "metadata": {},
   "outputs": [],
   "source": [
    "num_1=20"
   ]
  },
  {
   "cell_type": "code",
   "execution_count": null,
   "id": "fb09d194",
   "metadata": {},
   "outputs": [],
   "source": [
    "print(num1)"
   ]
  },
  {
   "cell_type": "code",
   "execution_count": null,
   "id": "504362e8",
   "metadata": {},
   "outputs": [],
   "source": [
    "print(num_1)"
   ]
  },
  {
   "cell_type": "code",
   "execution_count": null,
   "id": "36637655",
   "metadata": {},
   "outputs": [],
   "source": [
    "#flotante\n",
    "num2=10.5"
   ]
  },
  {
   "cell_type": "code",
   "execution_count": null,
   "id": "3fa1df6e",
   "metadata": {},
   "outputs": [],
   "source": [
    "print(num_1,num2)"
   ]
  },
  {
   "cell_type": "code",
   "execution_count": null,
   "id": "8ecac995",
   "metadata": {},
   "outputs": [],
   "source": []
  },
  {
   "cell_type": "code",
   "execution_count": null,
   "id": "a47bc470",
   "metadata": {},
   "outputs": [],
   "source": [
    "# Booleano - logico\n",
    "\n",
    "T = True\n",
    "F = False\n",
    "\n",
    "print(T,F)"
   ]
  },
  {
   "cell_type": "code",
   "execution_count": null,
   "id": "116ab043",
   "metadata": {},
   "outputs": [],
   "source": [
    "print(type(saludo),type(num_1),type(num2),type(T))"
   ]
  },
  {
   "cell_type": "code",
   "execution_count": null,
   "id": "56a6fb63",
   "metadata": {},
   "outputs": [],
   "source": []
  },
  {
   "cell_type": "code",
   "execution_count": null,
   "id": "66a5844d",
   "metadata": {},
   "outputs": [],
   "source": [
    "# Grupos de datos"
   ]
  },
  {
   "cell_type": "code",
   "execution_count": null,
   "id": "5491d1af",
   "metadata": {},
   "outputs": [],
   "source": [
    "# Listas\n",
    "#Ejemplo Baloto\n",
    "\n",
    "[10, 22, 30, 55]\n",
    "\n",
    "[\"Alex\", 30, \"Mariño\", \"Asia\", True, \"Lucas\", 5.5]\n",
    "\n",
    "lista1 = [\"Alex\", 30, \"Mariño\", \"Asia\", True, \"Lucas\", 5.5]\n",
    "\n",
    "print(lista1)"
   ]
  },
  {
   "cell_type": "code",
   "execution_count": null,
   "id": "2f136a4d",
   "metadata": {},
   "outputs": [],
   "source": [
    "lista_vacia = []\n",
    "print(lista_vacia)"
   ]
  },
  {
   "cell_type": "code",
   "execution_count": null,
   "id": "21579c97",
   "metadata": {},
   "outputs": [],
   "source": []
  },
  {
   "cell_type": "code",
   "execution_count": null,
   "id": "4b293ab3",
   "metadata": {},
   "outputs": [],
   "source": [
    "# Tupla: Lista que no cambia -- inmutable\n",
    "\n",
    "tupla_1=(10, 22, 30, 55) # Definida con parentesis\n",
    "()\n"
   ]
  },
  {
   "cell_type": "code",
   "execution_count": null,
   "id": "351f83dd",
   "metadata": {},
   "outputs": [],
   "source": []
  },
  {
   "cell_type": "code",
   "execution_count": null,
   "id": "3564ed96",
   "metadata": {},
   "outputs": [],
   "source": [
    "# Diccionario: Agrupamos datos de una misma entidad (pares, clave-valor)\n",
    "# Ejemplo Datos de una persona\n",
    "\n",
    "\"Juan\"\n",
    "\"Cano\"\n",
    "\"Medellín\"\n",
    "\n",
    "{\"1er nombre\": \"Juan\",\n",
    "\"1er apellido\": \"Cano\",\n",
    "\"Residencia\": \"Medellín\"}\n",
    "\n",
    "\n",
    "{\"recurso\": \"15AHUM\",\n",
    "\"capacidad\": 10000,\n",
    "\"ON Domingos?\": True}\n",
    "\n",
    "planta = {\"recurso\": \"15AHUM\",\n",
    "\"capacidad\": 10000,\n",
    "\"ON Domingos?\": True}\n",
    "\n",
    "print(planta)"
   ]
  },
  {
   "cell_type": "code",
   "execution_count": null,
   "id": "fe926a8e",
   "metadata": {},
   "outputs": [],
   "source": []
  },
  {
   "cell_type": "code",
   "execution_count": null,
   "id": "ca8dfdbd",
   "metadata": {},
   "outputs": [],
   "source": [
    "print(type(lista1),type(tupla_1),type(planta))"
   ]
  },
  {
   "cell_type": "code",
   "execution_count": null,
   "id": "fcc3e12d",
   "metadata": {},
   "outputs": [],
   "source": [
    "print(type(None))"
   ]
  },
  {
   "cell_type": "code",
   "execution_count": null,
   "id": "bbebccc2",
   "metadata": {},
   "outputs": [],
   "source": []
  },
  {
   "cell_type": "code",
   "execution_count": null,
   "id": "3a7be206",
   "metadata": {},
   "outputs": [],
   "source": [
    "# operadores"
   ]
  },
  {
   "cell_type": "code",
   "execution_count": null,
   "id": "2851515e",
   "metadata": {},
   "outputs": [],
   "source": [
    "text1 = \"Carlos, Lucas\"\n",
    "text2 = \"Alex, Juan\""
   ]
  },
  {
   "cell_type": "code",
   "execution_count": null,
   "id": "6cca2a13",
   "metadata": {},
   "outputs": [],
   "source": [
    "text1 + text2"
   ]
  },
  {
   "cell_type": "code",
   "execution_count": null,
   "id": "e2d7b0c4",
   "metadata": {},
   "outputs": [],
   "source": [
    "print(text1 + text2)"
   ]
  },
  {
   "cell_type": "code",
   "execution_count": null,
   "id": "462c4cc9",
   "metadata": {},
   "outputs": [],
   "source": [
    "costo=1.5\n",
    "operarios=50\n",
    "\n",
    "total = costo*operarios\n",
    "\n",
    "print(total)\n",
    "print(text1 + text2)\n",
    "\n",
    "#case sensitive\n",
    "Text1 = \"Alejo\"\n",
    "print(text1, Text1)"
   ]
  },
  {
   "cell_type": "code",
   "execution_count": null,
   "id": "6aea34e2",
   "metadata": {},
   "outputs": [],
   "source": [
    "2text=1"
   ]
  },
  {
   "cell_type": "code",
   "execution_count": null,
   "id": "8f5eed9e",
   "metadata": {},
   "outputs": [],
   "source": [
    "_2text=1"
   ]
  },
  {
   "cell_type": "code",
   "execution_count": null,
   "id": "94610078",
   "metadata": {},
   "outputs": [],
   "source": [
    "carlos, alex, lucas = \"asia\", \"africa\", \"oceania\""
   ]
  },
  {
   "cell_type": "code",
   "execution_count": null,
   "id": "196e79b2",
   "metadata": {},
   "outputs": [],
   "source": [
    "carlos"
   ]
  },
  {
   "cell_type": "code",
   "execution_count": null,
   "id": "ade19493",
   "metadata": {},
   "outputs": [],
   "source": [
    "alex"
   ]
  },
  {
   "cell_type": "code",
   "execution_count": null,
   "id": "a89e9d6b",
   "metadata": {},
   "outputs": [],
   "source": [
    "print(carlos, alex)"
   ]
  },
  {
   "cell_type": "code",
   "execution_count": null,
   "id": "da756c16",
   "metadata": {},
   "outputs": [],
   "source": []
  },
  {
   "cell_type": "code",
   "execution_count": null,
   "id": "7679c2ad",
   "metadata": {},
   "outputs": [],
   "source": [
    "print(dir(carlos))"
   ]
  },
  {
   "cell_type": "code",
   "execution_count": null,
   "id": "ef710806",
   "metadata": {},
   "outputs": [],
   "source": [
    "print(carlos.upper())"
   ]
  },
  {
   "cell_type": "code",
   "execution_count": null,
   "id": "8454b50c",
   "metadata": {},
   "outputs": [],
   "source": [
    "# operadores"
   ]
  },
  {
   "cell_type": "code",
   "execution_count": null,
   "id": "520b63f6",
   "metadata": {},
   "outputs": [],
   "source": [
    "x = 10\n",
    "y = 2\n",
    "\n",
    "suma = x+y\n",
    "resta = x-y\n",
    "multiplicacion = x*y\n",
    "división = x/y\n",
    "potencia = x**y\n",
    "modulo = x%y \n",
    "\n",
    "print(suma, resta, multiplicacion, división, potencia, modulo)\n",
    "print(\"La división es:\",división)\n",
    "print(\"La división es:\",división, \"y la potencia es:\",potencia)"
   ]
  },
  {
   "cell_type": "code",
   "execution_count": null,
   "id": "e9d38851",
   "metadata": {},
   "outputs": [],
   "source": [
    "10/20*5%3**2"
   ]
  },
  {
   "cell_type": "code",
   "execution_count": null,
   "id": "9c2936c9",
   "metadata": {},
   "outputs": [],
   "source": [
    "10/180"
   ]
  },
  {
   "cell_type": "code",
   "execution_count": null,
   "id": "dd073b3b",
   "metadata": {},
   "outputs": [],
   "source": []
  },
  {
   "cell_type": "code",
   "execution_count": null,
   "id": "92516435",
   "metadata": {},
   "outputs": [],
   "source": [
    "edad = input(\"Inserte edad: \")"
   ]
  },
  {
   "cell_type": "code",
   "execution_count": null,
   "id": "bc4a39c0",
   "metadata": {},
   "outputs": [],
   "source": [
    "edad+5"
   ]
  },
  {
   "cell_type": "code",
   "execution_count": null,
   "id": "5b8af0ff",
   "metadata": {},
   "outputs": [],
   "source": [
    "int(edad)+5"
   ]
  },
  {
   "cell_type": "code",
   "execution_count": null,
   "id": "1f3a4eb5",
   "metadata": {},
   "outputs": [],
   "source": [
    "numeros_lista=list((1,2,3,4))\n",
    "print(type(numeros_lista))"
   ]
  },
  {
   "cell_type": "code",
   "execution_count": null,
   "id": "2a31ad08",
   "metadata": {},
   "outputs": [],
   "source": [
    "r=list(range(1,10))"
   ]
  },
  {
   "cell_type": "raw",
   "id": "d2dc438c",
   "metadata": {},
   "source": [
    "print(r)"
   ]
  },
  {
   "cell_type": "code",
   "execution_count": null,
   "id": "1fa29f25",
   "metadata": {},
   "outputs": [],
   "source": []
  },
  {
   "cell_type": "code",
   "execution_count": null,
   "id": "8bc92107",
   "metadata": {},
   "outputs": [],
   "source": [
    "# Condicionales"
   ]
  },
  {
   "cell_type": "code",
   "execution_count": null,
   "id": "9e5d2683",
   "metadata": {},
   "outputs": [],
   "source": [
    "x = 10\n",
    "\n",
    "if x >= 10:\n",
    "    print(\"Es mayor o igual a 10\")\n",
    "else:\n",
    "    print(\"NO es mayor a 10\")"
   ]
  },
  {
   "cell_type": "code",
   "execution_count": null,
   "id": "372d38f6",
   "metadata": {},
   "outputs": [],
   "source": [
    "x = 4\n",
    "\n",
    "if x == 5:\n",
    "    print(\"Es igual a 5\")\n",
    "else:\n",
    "    print(\"NO es igual a 5\")"
   ]
  },
  {
   "cell_type": "code",
   "execution_count": null,
   "id": "dbdc5006",
   "metadata": {},
   "outputs": [],
   "source": [
    "color = \"blue\"\n",
    "\n",
    "if color == \"red\":\n",
    "    print(\"El color es red\")\n",
    "elif color == \"blue\":\n",
    "    print(\"El color es blue\")\n",
    "else:\n",
    "    print(\"El color NO es ni red ni blue\")"
   ]
  },
  {
   "cell_type": "code",
   "execution_count": null,
   "id": "36d17330",
   "metadata": {},
   "outputs": [],
   "source": [
    "name = input(\"Inserte su nombre \")\n",
    "apellido = input(\"Inserte su primer apellido \")\n",
    "\n",
    "if name == \"carlos\":\n",
    "    if apellido == \"mariño\":\n",
    "        print(\"Acceso completo concedido...\")\n",
    "elif name == \"lucas\":\n",
    "    if apellido == \"ramirez\":\n",
    "        print(\"Acceso limitado concedido...\")\n",
    "elif name == \"alex\":\n",
    "    if apellido == \"hernandez\":\n",
    "        print(\"Acceso denegado, pida permiso al administrados...\")\n",
    "else:\n",
    "    print(\"credenciales incorrectas\")"
   ]
  },
  {
   "cell_type": "code",
   "execution_count": null,
   "id": "91abf33d",
   "metadata": {},
   "outputs": [],
   "source": [
    "name = input(\"Inserte su nombre \")\n",
    "apellido = input(\"Inserte su primer apellido \")\n",
    "\n",
    "if name == \"carlos\":\n",
    "    if apellido == \"mariño\":\n",
    "        print(\"Acceso completo concedido...\")\n",
    "    else:\n",
    "        print(\"Eres carlos, pero no mariño\")\n",
    "elif name == \"lucas\":\n",
    "    if apellido == \"ramirez\":\n",
    "        print(\"Acceso limitado concedido...\")\n",
    "elif name == \"alex\":\n",
    "    if apellido == \"hernandez\":\n",
    "        print(\"Acceso denegado, pida permiso al administrados...\")\n",
    "else:\n",
    "    print(\"credenciales incorrectas\")"
   ]
  },
  {
   "cell_type": "code",
   "execution_count": null,
   "id": "b069da7c",
   "metadata": {},
   "outputs": [],
   "source": [
    "# Operadores logicos\n",
    "\n",
    "x = 2\n",
    "y = 20\n",
    "\n",
    "\n",
    "if x>30 and x<=60:\n",
    "    print(\"Normal\")\n",
    "else:\n",
    "    print(\"Anormal\")\n",
    "\n",
    "if x>2 or x<2:\n",
    "    print(\"cualquier numero\")\n",
    "else:\n",
    "    print(2)\n",
    "    \n",
    "if(not(x==y)):\n",
    "    print(\"x no es igual a y\")\n",
    "        "
   ]
  },
  {
   "cell_type": "code",
   "execution_count": null,
   "id": "1df6d19c",
   "metadata": {},
   "outputs": [],
   "source": []
  },
  {
   "cell_type": "code",
   "execution_count": null,
   "id": "8fa228cd",
   "metadata": {},
   "outputs": [],
   "source": []
  },
  {
   "cell_type": "code",
   "execution_count": null,
   "id": "47c617d5",
   "metadata": {},
   "outputs": [],
   "source": [
    "# Loops o ciclos: FOR y WHILE"
   ]
  },
  {
   "cell_type": "code",
   "execution_count": null,
   "id": "b10e69c2",
   "metadata": {},
   "outputs": [],
   "source": [
    "alimentos = [\"manzanas\", \"arroz\", \"carne\", \"queso\", \"vegetales\",\"uvas\"]\n",
    "\n",
    "print(alimentos[0])\n",
    "print(alimentos[1])\n",
    "print(alimentos[2])\n",
    "print(alimentos[3])"
   ]
  },
  {
   "cell_type": "code",
   "execution_count": null,
   "id": "0222384f",
   "metadata": {},
   "outputs": [],
   "source": [
    "for alimento in alimentos:\n",
    "    print(alimento)"
   ]
  },
  {
   "cell_type": "code",
   "execution_count": null,
   "id": "6d4ad64f",
   "metadata": {},
   "outputs": [],
   "source": [
    "for alimento in alimentos:\n",
    "    if alimento == \"carne\":\n",
    "        print(\"cerdo\")\n",
    "    print(alimento)"
   ]
  },
  {
   "cell_type": "code",
   "execution_count": null,
   "id": "c8479351",
   "metadata": {},
   "outputs": [],
   "source": [
    "for alimento in alimentos:\n",
    "    if alimento == \"carne\":\n",
    "        print(\"cerdo\")\n",
    "        print(alimento)"
   ]
  },
  {
   "cell_type": "code",
   "execution_count": null,
   "id": "b616f071",
   "metadata": {},
   "outputs": [],
   "source": [
    "for alimento in alimentos:\n",
    "    if alimento == \"carne\":\n",
    "        print(\"tienes que comprar carne\")\n",
    "    else:\n",
    "        print(alimento)"
   ]
  },
  {
   "cell_type": "code",
   "execution_count": null,
   "id": "1e7f4ec9",
   "metadata": {},
   "outputs": [],
   "source": [
    "for alimento in alimentos:\n",
    "    if alimento == \"carne\":\n",
    "        print(\"tienes que comprar carne\")\n",
    "        break\n",
    "    print(alimento)"
   ]
  },
  {
   "cell_type": "code",
   "execution_count": null,
   "id": "2d15e6c4",
   "metadata": {},
   "outputs": [],
   "source": [
    "for alimento in alimentos:\n",
    "    if alimento == \"carne\":\n",
    "        break\n",
    "        print(\"tienes que comprar carne\")\n",
    "    print(alimento)"
   ]
  },
  {
   "cell_type": "code",
   "execution_count": null,
   "id": "7dd025db",
   "metadata": {},
   "outputs": [],
   "source": [
    "for alimento in alimentos:\n",
    "    if alimento == \"carne\":\n",
    "        continue\n",
    "        print(\"tienes que comprar carne\")\n",
    "    print(alimento)"
   ]
  },
  {
   "cell_type": "code",
   "execution_count": null,
   "id": "a57e5f8c",
   "metadata": {},
   "outputs": [],
   "source": [
    "for num in range(1,8):\n",
    "    print(num)"
   ]
  },
  {
   "cell_type": "code",
   "execution_count": null,
   "id": "821dc9c4",
   "metadata": {},
   "outputs": [],
   "source": [
    "for num in range(1,9,2):\n",
    "    print(num)"
   ]
  },
  {
   "cell_type": "code",
   "execution_count": null,
   "id": "bf0c9483",
   "metadata": {},
   "outputs": [],
   "source": [
    "for num in range(0,9,2):\n",
    "    print(num)"
   ]
  },
  {
   "cell_type": "code",
   "execution_count": null,
   "id": "9ecd167d",
   "metadata": {},
   "outputs": [],
   "source": [
    "for letra in \"Hola\":\n",
    "    print(letra)"
   ]
  },
  {
   "cell_type": "code",
   "execution_count": null,
   "id": "1cae8cfb",
   "metadata": {},
   "outputs": [],
   "source": []
  },
  {
   "cell_type": "code",
   "execution_count": null,
   "id": "a2910a3a",
   "metadata": {},
   "outputs": [],
   "source": [
    "contador = 4\n",
    "\n",
    "while contador < 10:\n",
    "    print(contador)\n",
    "    contador = contador+1\n",
    "    "
   ]
  },
  {
   "cell_type": "code",
   "execution_count": null,
   "id": "00beac6c",
   "metadata": {},
   "outputs": [],
   "source": []
  },
  {
   "cell_type": "code",
   "execution_count": null,
   "id": "74e697ca",
   "metadata": {},
   "outputs": [],
   "source": [
    "# Funciones \n",
    "\n",
    "def hola():\n",
    "    print(\"Hola mundo\")"
   ]
  },
  {
   "cell_type": "code",
   "execution_count": null,
   "id": "b0ec4fb0",
   "metadata": {},
   "outputs": [],
   "source": [
    "hola()"
   ]
  },
  {
   "cell_type": "code",
   "execution_count": null,
   "id": "f0418cb6",
   "metadata": {},
   "outputs": [],
   "source": [
    "def hola2(name):\n",
    "    print(\"Hola \" + name)\n",
    "    \n",
    "    \n",
    "hola2(\"carlos\")"
   ]
  },
  {
   "cell_type": "code",
   "execution_count": null,
   "id": "76fe91b6",
   "metadata": {},
   "outputs": [],
   "source": [
    "hola2()"
   ]
  },
  {
   "cell_type": "code",
   "execution_count": null,
   "id": "fcfd6ea6",
   "metadata": {},
   "outputs": [],
   "source": [
    "def hola2(name=\"Persona\"): ## Parametro por defecto\n",
    "    print(\"Hola \" + name)\n",
    "    \n",
    "hola2()"
   ]
  },
  {
   "cell_type": "code",
   "execution_count": null,
   "id": "05efa0cc",
   "metadata": {},
   "outputs": [],
   "source": [
    "def suma(n1, n2):\n",
    "    return n1 + n2\n",
    "\n",
    "print(suma(10,30))\n",
    "print(suma(600,1))"
   ]
  },
  {
   "cell_type": "code",
   "execution_count": null,
   "id": "bb35bd7b",
   "metadata": {},
   "outputs": [],
   "source": [
    "def suma(n1,n2,n3):\n",
    "    suma1= n1+n2\n",
    "    exit()\n",
    "    suma2=suma1+n3\n",
    "    return suma2\n",
    "\n",
    "print(suma(10,30,6))\n",
    "resultado = suma(600,1,6)"
   ]
  },
  {
   "cell_type": "code",
   "execution_count": null,
   "id": "af343fed",
   "metadata": {},
   "outputs": [],
   "source": [
    "resultado"
   ]
  },
  {
   "cell_type": "code",
   "execution_count": null,
   "id": "27626578",
   "metadata": {},
   "outputs": [],
   "source": []
  },
  {
   "cell_type": "markdown",
   "id": "a198deeb",
   "metadata": {},
   "source": [
    "## Paquetes, librerias, bibliotecas\n",
    "\n",
    "¿Qué es una librería? es un Conjunto de funciones\n",
    "\n",
    "pip: es un sistema de gestión de paquetes utilizado para instalar y administrar paquetes de software escritos en Python."
   ]
  },
  {
   "cell_type": "code",
   "execution_count": null,
   "id": "213a9f87",
   "metadata": {},
   "outputs": [],
   "source": [
    "import numpy as np # por que numpy, por que es muy rapido, utiliza menos memoria y almacenamiento\n",
    "# Libreria numerica potente\n",
    "# implementa matrices y matrices multidimensionales\n",
    "# Estas estructuras garantizan calculos eficientes con matrices"
   ]
  },
  {
   "cell_type": "code",
   "execution_count": null,
   "id": "5d5c596b",
   "metadata": {},
   "outputs": [],
   "source": [
    "A = np.array([[1,2,3],[4,5,6],[7,8,9]])"
   ]
  },
  {
   "cell_type": "code",
   "execution_count": null,
   "id": "a80de420",
   "metadata": {},
   "outputs": [],
   "source": [
    "A"
   ]
  },
  {
   "cell_type": "code",
   "execution_count": null,
   "id": "c08fe086",
   "metadata": {},
   "outputs": [],
   "source": [
    "array([[1, 2, 3],  # Fila 0\n",
    "       [4, 5, 6],  # Fila 1\n",
    "       [7, 8, 9]]) # Fila 2"
   ]
  },
  {
   "cell_type": "code",
   "execution_count": null,
   "id": "394360cc",
   "metadata": {},
   "outputs": [],
   "source": [
    "A[0]"
   ]
  },
  {
   "cell_type": "code",
   "execution_count": null,
   "id": "a6ae08cf",
   "metadata": {},
   "outputs": [],
   "source": [
    "A[1]"
   ]
  },
  {
   "cell_type": "code",
   "execution_count": null,
   "id": "00f897b3",
   "metadata": {},
   "outputs": [],
   "source": [
    "A[2]"
   ]
  },
  {
   "cell_type": "code",
   "execution_count": null,
   "id": "8b78cc9f",
   "metadata": {},
   "outputs": [],
   "source": [
    "A[:,0]"
   ]
  },
  {
   "cell_type": "code",
   "execution_count": null,
   "id": "0c00c3ed",
   "metadata": {},
   "outputs": [],
   "source": [
    "A[:,1]"
   ]
  },
  {
   "cell_type": "code",
   "execution_count": null,
   "id": "e636001d",
   "metadata": {},
   "outputs": [],
   "source": [
    "A[:,2]"
   ]
  },
  {
   "cell_type": "code",
   "execution_count": null,
   "id": "d21a3638",
   "metadata": {},
   "outputs": [],
   "source": [
    "A[1,1]"
   ]
  },
  {
   "cell_type": "code",
   "execution_count": null,
   "id": "e8db1d88",
   "metadata": {},
   "outputs": [],
   "source": [
    "A[0,1:3]"
   ]
  },
  {
   "cell_type": "code",
   "execution_count": null,
   "id": "ff27d496",
   "metadata": {},
   "outputs": [],
   "source": [
    "A[1:3,2]"
   ]
  },
  {
   "cell_type": "code",
   "execution_count": null,
   "id": "da38d2f4",
   "metadata": {},
   "outputs": [],
   "source": [
    "A[1,0:2]"
   ]
  },
  {
   "cell_type": "code",
   "execution_count": null,
   "id": "a5b7f82e",
   "metadata": {},
   "outputs": [],
   "source": [
    "A"
   ]
  },
  {
   "cell_type": "code",
   "execution_count": null,
   "id": "945c210f",
   "metadata": {},
   "outputs": [],
   "source": [
    "A.shape"
   ]
  },
  {
   "cell_type": "code",
   "execution_count": null,
   "id": "f9c935db",
   "metadata": {},
   "outputs": [],
   "source": [
    "A[:2,:2]"
   ]
  },
  {
   "cell_type": "code",
   "execution_count": null,
   "id": "ef78c36b",
   "metadata": {},
   "outputs": [],
   "source": [
    "A[1:,1:]"
   ]
  },
  {
   "cell_type": "code",
   "execution_count": null,
   "id": "d67e253a",
   "metadata": {},
   "outputs": [],
   "source": [
    "zeros = np.zeros(3)\n",
    "zeros"
   ]
  },
  {
   "cell_type": "code",
   "execution_count": null,
   "id": "d63715d3",
   "metadata": {},
   "outputs": [],
   "source": [
    "zeros = np.zeros(10)\n",
    "zeros"
   ]
  },
  {
   "cell_type": "code",
   "execution_count": null,
   "id": "965fcc32",
   "metadata": {},
   "outputs": [],
   "source": [
    "zeros.shape"
   ]
  },
  {
   "cell_type": "code",
   "execution_count": null,
   "id": "51211200",
   "metadata": {},
   "outputs": [],
   "source": [
    "print(type(zeros))"
   ]
  },
  {
   "cell_type": "code",
   "execution_count": null,
   "id": "9ec0eaeb",
   "metadata": {},
   "outputs": [],
   "source": [
    "zeros.shape = (10,1)\n",
    "zeros"
   ]
  },
  {
   "cell_type": "code",
   "execution_count": null,
   "id": "09f007e4",
   "metadata": {},
   "outputs": [],
   "source": [
    "unos = np.ones(10)\n",
    "unos"
   ]
  },
  {
   "cell_type": "code",
   "execution_count": null,
   "id": "0ef940ec",
   "metadata": {},
   "outputs": [],
   "source": [
    "vacio = np.empty(3)\n",
    "vacio"
   ]
  },
  {
   "cell_type": "code",
   "execution_count": null,
   "id": "49753545",
   "metadata": {},
   "outputs": [],
   "source": [
    "nums = np.linspace(2,10,5)\n",
    "nums"
   ]
  },
  {
   "cell_type": "code",
   "execution_count": null,
   "id": "1dd5cbca",
   "metadata": {},
   "outputs": [],
   "source": [
    "arreglo = np.array([10,20]) #ndarray from python list\n",
    "arreglo"
   ]
  },
  {
   "cell_type": "code",
   "execution_count": null,
   "id": "ec2115e8",
   "metadata": {},
   "outputs": [],
   "source": [
    "print(arreglo)"
   ]
  },
  {
   "cell_type": "code",
   "execution_count": null,
   "id": "9f5099f6",
   "metadata": {},
   "outputs": [],
   "source": [
    "a_list = [1,2,3,4,5,6,7]\n",
    "x = np.array([a_list])\n",
    "x"
   ]
  },
  {
   "cell_type": "code",
   "execution_count": null,
   "id": "3000b49c",
   "metadata": {},
   "outputs": [],
   "source": [
    "type(x)"
   ]
  },
  {
   "cell_type": "code",
   "execution_count": null,
   "id": "9063fcc2",
   "metadata": {},
   "outputs": [],
   "source": [
    "b_list=[[1,2,3,4,5],[6,7,8,9,0]]\n",
    "y=np.array([b_list])\n",
    "y"
   ]
  },
  {
   "cell_type": "code",
   "execution_count": null,
   "id": "32d4e0a6",
   "metadata": {},
   "outputs": [],
   "source": [
    "y.shape\n",
    "y #tab\n"
   ]
  },
  {
   "cell_type": "code",
   "execution_count": null,
   "id": "b5d0cebe",
   "metadata": {},
   "outputs": [],
   "source": [
    "?y"
   ]
  },
  {
   "cell_type": "code",
   "execution_count": null,
   "id": "ddf3e0b1",
   "metadata": {},
   "outputs": [],
   "source": [
    "w = np.random.seed(0)\n",
    "w"
   ]
  },
  {
   "cell_type": "code",
   "execution_count": null,
   "id": "25e7a90e",
   "metadata": {},
   "outputs": [],
   "source": [
    "x1 = np.random.randint(3,size=6)\n",
    "x1"
   ]
  },
  {
   "cell_type": "code",
   "execution_count": null,
   "id": "b77d45be",
   "metadata": {},
   "outputs": [],
   "source": [
    "x1[0]"
   ]
  },
  {
   "cell_type": "code",
   "execution_count": null,
   "id": "01c4d369",
   "metadata": {},
   "outputs": [],
   "source": [
    "x1[5]"
   ]
  },
  {
   "cell_type": "code",
   "execution_count": null,
   "id": "28f94e0e",
   "metadata": {},
   "outputs": [],
   "source": [
    "x1[-1]"
   ]
  }
 ],
 "metadata": {
  "kernelspec": {
   "display_name": "Python 3",
   "language": "python",
   "name": "python3"
  },
  "language_info": {
   "codemirror_mode": {
    "name": "ipython",
    "version": 3
   },
   "file_extension": ".py",
   "mimetype": "text/x-python",
   "name": "python",
   "nbconvert_exporter": "python",
   "pygments_lexer": "ipython3",
   "version": "3.8.10"
  }
 },
 "nbformat": 4,
 "nbformat_minor": 5
}
